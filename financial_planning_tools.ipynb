{
 "cells": [
  {
   "cell_type": "markdown",
   "metadata": {},
   "source": [
    "# Financial Planning with APIs and Simulations\n",
    "\n",
    "In this Challenge, you’ll create two financial analysis tools by using a single Jupyter notebook:\n",
    "\n",
    "Part 1: A financial planner for emergencies. The members will be able to use this tool to visualize their current savings. The members can then determine if they have enough reserves for an emergency fund.\n",
    "\n",
    "Part 2: A financial planner for retirement. This tool will forecast the performance of their retirement portfolio in 30 years. To do this, the tool will make an Alpaca API call via the Alpaca SDK to get historical price data for use in Monte Carlo simulations.\n",
    "\n",
    "You’ll use the information from the Monte Carlo simulation to answer questions about the portfolio in your Jupyter notebook.\n",
    "\n"
   ]
  },
  {
   "cell_type": "code",
   "execution_count": 1,
   "metadata": {},
   "outputs": [],
   "source": [
    "# Import the required libraries and dependencies\n",
    "import os\n",
    "import requests\n",
    "import json\n",
    "import pandas as pd\n",
    "from dotenv import load_dotenv\n",
    "import alpaca_trade_api as tradeapi\n",
    "from MCForecastTools import MCSimulation\n",
    "\n",
    "%matplotlib inline"
   ]
  },
  {
   "cell_type": "code",
   "execution_count": 2,
   "metadata": {},
   "outputs": [
    {
     "data": {
      "text/plain": [
       "True"
      ]
     },
     "execution_count": 2,
     "metadata": {},
     "output_type": "execute_result"
    }
   ],
   "source": [
    "# Load the environment variables from the .env file\n",
    "#by calling the load_dotenv function\n",
    "load_dotenv()"
   ]
  },
  {
   "cell_type": "markdown",
   "metadata": {},
   "source": [
    "## Part 1: Create a Financial Planner for Emergencies"
   ]
  },
  {
   "cell_type": "markdown",
   "metadata": {},
   "source": [
    "### Evaluate the Cryptocurrency Wallet by Using the Requests Library\n",
    "\n",
    "In this section, you’ll determine the current value of a member’s cryptocurrency wallet. You’ll collect the current prices for the Bitcoin and Ethereum cryptocurrencies by using the Python Requests library. For the prototype, you’ll assume that the member holds the 1.2 Bitcoins (BTC) and 5.3 Ethereum coins (ETH). To do all this, complete the following steps:\n",
    "\n",
    "1. Create a variable named `monthly_income`, and set its value to `12000`.\n",
    "\n",
    "2. Use the Requests library to get the current price (in US dollars) of Bitcoin (BTC) and Ethereum (ETH) by using the API endpoints that the starter code supplies.\n",
    "\n",
    "3. Navigate the JSON response object to access the current price of each coin, and store each in a variable.\n",
    "\n",
    "    > **Hint** Note the specific identifier for each cryptocurrency in the API JSON response. The Bitcoin identifier is `1`, and the Ethereum identifier is `1027`.\n",
    "\n",
    "4. Calculate the value, in US dollars, of the current amount of each cryptocurrency and of the entire cryptocurrency wallet.\n",
    "\n"
   ]
  },
  {
   "cell_type": "code",
   "execution_count": 3,
   "metadata": {},
   "outputs": [],
   "source": [
    "# The current number of coins for each cryptocurrency asset held in the portfolio.\n",
    "btc_coins = 1.2\n",
    "eth_coins = 5.3"
   ]
  },
  {
   "cell_type": "markdown",
   "metadata": {},
   "source": [
    "#### Step 1: Create a variable named `monthly_income`, and set its value to `12000`."
   ]
  },
  {
   "cell_type": "code",
   "execution_count": 5,
   "metadata": {},
   "outputs": [],
   "source": [
    "# The monthly amount for the member's household income\n",
    "monthly_income = 12000\n"
   ]
  },
  {
   "cell_type": "markdown",
   "metadata": {},
   "source": [
    "#### Review the endpoint URLs for the API calls to Free Crypto API in order to get the current pricing information for both BTC and ETH."
   ]
  },
  {
   "cell_type": "code",
   "execution_count": 6,
   "metadata": {},
   "outputs": [],
   "source": [
    "# The Free Crypto API Call endpoint URLs for the held cryptocurrency assets\n",
    "btc_url = \"https://api.alternative.me/v2/ticker/Bitcoin/?convert=USD\"\n",
    "eth_url = \"https://api.alternative.me/v2/ticker/Ethereum/?convert=USD\""
   ]
  },
  {
   "cell_type": "markdown",
   "metadata": {},
   "source": [
    "#### Step 2. Use the Requests library to get the current price (in US dollars) of Bitcoin (BTC) and Ethereum (ETH) by using the API endpoints that the starter code supplied."
   ]
  },
  {
   "cell_type": "code",
   "execution_count": 7,
   "metadata": {},
   "outputs": [
    {
     "name": "stdout",
     "output_type": "stream",
     "text": [
      "{\n",
      "  \"data\": {\n",
      "    \"1\": {\n",
      "      \"circulating_supply\": 18918931,\n",
      "      \"id\": 1,\n",
      "      \"last_updated\": 1641226765,\n",
      "      \"max_supply\": 21000000,\n",
      "      \"name\": \"Bitcoin\",\n",
      "      \"quotes\": {\n",
      "        \"USD\": {\n",
      "          \"market_cap\": 883480259429,\n",
      "          \"percent_change_1h\": -0.797313863970751,\n",
      "          \"percent_change_24h\": -1.8410374045789,\n",
      "          \"percent_change_7d\": -8.3706364041966,\n",
      "          \"percentage_change_1h\": -0.797313863970751,\n",
      "          \"percentage_change_24h\": -1.8410374045789,\n",
      "          \"percentage_change_7d\": -8.3706364041966,\n",
      "          \"price\": 46596.0,\n",
      "          \"volume_24h\": 69651900922\n",
      "        }\n",
      "      },\n",
      "      \"rank\": 1,\n",
      "      \"symbol\": \"BTC\",\n",
      "      \"total_supply\": 18918931,\n",
      "      \"website_slug\": \"bitcoin\"\n",
      "    }\n",
      "  },\n",
      "  \"metadata\": {\n",
      "    \"error\": null,\n",
      "    \"num_cryptocurrencies\": 3105,\n",
      "    \"timestamp\": 1641226765\n",
      "  }\n",
      "}\n"
     ]
    }
   ],
   "source": [
    "# Using the Python requests library, make an API call to access the current price of BTC\n",
    "btc_response = requests.get(btc_url).json()\n",
    "\n",
    "# Use the json.dumps function to review the response data from the API call\n",
    "# Use the indent and sort_keys parameters to make the response object readable\n",
    "print(json.dumps(btc_response, indent=2, sort_keys=True))"
   ]
  },
  {
   "cell_type": "code",
   "execution_count": 8,
   "metadata": {},
   "outputs": [
    {
     "name": "stdout",
     "output_type": "stream",
     "text": [
      "{\n",
      "  \"data\": {\n",
      "    \"1027\": {\n",
      "      \"circulating_supply\": 119008809,\n",
      "      \"id\": 1027,\n",
      "      \"last_updated\": 1641226742,\n",
      "      \"max_supply\": 0,\n",
      "      \"name\": \"Ethereum\",\n",
      "      \"quotes\": {\n",
      "        \"USD\": {\n",
      "          \"market_cap\": 450843676041,\n",
      "          \"percent_change_1h\": -1.08625712196204,\n",
      "          \"percent_change_24h\": -0.686025436766708,\n",
      "          \"percent_change_7d\": -7.49772790674094,\n",
      "          \"percentage_change_1h\": -1.08625712196204,\n",
      "          \"percentage_change_24h\": -0.686025436766708,\n",
      "          \"percentage_change_7d\": -7.49772790674094,\n",
      "          \"price\": 3769.5,\n",
      "          \"volume_24h\": 15804974466\n",
      "        }\n",
      "      },\n",
      "      \"rank\": 2,\n",
      "      \"symbol\": \"ETH\",\n",
      "      \"total_supply\": 119008809,\n",
      "      \"website_slug\": \"ethereum\"\n",
      "    }\n",
      "  },\n",
      "  \"metadata\": {\n",
      "    \"error\": null,\n",
      "    \"num_cryptocurrencies\": 3105,\n",
      "    \"timestamp\": 1641226742\n",
      "  }\n",
      "}\n"
     ]
    }
   ],
   "source": [
    "# Using the Python requests library, make an API call to access the current price ETH\n",
    "eth_response = requests.get(eth_url).json()\n",
    "\n",
    "# Use the json.dumps function to review the response data from the API call\n",
    "# Use the indent and sort_keys parameters to make the response object readable\n",
    "print(json.dumps(eth_response, indent=2, sort_keys=True))"
   ]
  },
  {
   "cell_type": "markdown",
   "metadata": {},
   "source": [
    "#### Step 3: Navigate the JSON response object to access the current price of each coin, and store each in a variable."
   ]
  },
  {
   "cell_type": "code",
   "execution_count": 9,
   "metadata": {},
   "outputs": [
    {
     "name": "stdout",
     "output_type": "stream",
     "text": [
      "The current price of Bitcoin(BTC) is: $46596.0\n"
     ]
    }
   ],
   "source": [
    "# Navigate the BTC response object to access the current price of BTC\n",
    "btc_price = btc_response['data']['1']['quotes']['USD']['price']\n",
    "\n",
    "# Print the current price of BTC\n",
    "print(f\"The current price of Bitcoin(BTC) is: ${btc_price}\")\n"
   ]
  },
  {
   "cell_type": "code",
   "execution_count": 10,
   "metadata": {},
   "outputs": [
    {
     "name": "stdout",
     "output_type": "stream",
     "text": [
      "The current price of Ethereum(ETH) is: $3769.5\n"
     ]
    }
   ],
   "source": [
    "# Navigate the ETH response object to access the current price of ETH\n",
    "eth_price = eth_response['data']['1027']['quotes']['USD']['price']\n",
    "\n",
    "# Print the current price of ETH\n",
    "print(f\"The current price of Ethereum(ETH) is: ${eth_price}\")"
   ]
  },
  {
   "cell_type": "markdown",
   "metadata": {},
   "source": [
    "### Step 4: Calculate the value, in US dollars, of the current amount of each cryptocurrency and of the entire cryptocurrency wallet."
   ]
  },
  {
   "cell_type": "code",
   "execution_count": 22,
   "metadata": {},
   "outputs": [
    {
     "name": "stdout",
     "output_type": "stream",
     "text": [
      "Current US dollar value of BTC holding: $55915.20\n"
     ]
    }
   ],
   "source": [
    "# Compute the current value of the BTC holding \n",
    "btc_value = btc_coins * float(btc_price)\n",
    "\n",
    "# Print current value of your holding in BTC\n",
    "print(f\"Current US dollar value of BTC holding: ${btc_value:.2f}\")\n"
   ]
  },
  {
   "cell_type": "code",
   "execution_count": 23,
   "metadata": {},
   "outputs": [
    {
     "name": "stdout",
     "output_type": "stream",
     "text": [
      "Current US dollar value of ETH holding: $19978.35\n"
     ]
    }
   ],
   "source": [
    "# Compute the current value of the ETH holding \n",
    "eth_value = eth_coins * float(eth_price)\n",
    "\n",
    "# Print current value of your holding in ETH\n",
    "print(f\"Current US dollar value of ETH holding: ${eth_value:.2f}\")\n"
   ]
  },
  {
   "cell_type": "code",
   "execution_count": 24,
   "metadata": {},
   "outputs": [
    {
     "name": "stdout",
     "output_type": "stream",
     "text": [
      "Total crypto wallet balance: $75893.55\n"
     ]
    }
   ],
   "source": [
    "# Compute the total value of the cryptocurrency wallet\n",
    "# Add the value of the BTC holding to the value of the ETH holding\n",
    "total_crypto_wallet = btc_value + eth_value\n",
    "\n",
    "# Print current cryptocurrency wallet balance\n",
    "print(f\"Total crypto wallet balance: ${total_crypto_wallet:.2f}\")\n"
   ]
  },
  {
   "cell_type": "markdown",
   "metadata": {},
   "source": [
    "### Evaluate the Stock and Bond Holdings by Using the Alpaca SDK\n",
    "\n",
    "In this section, you’ll determine the current value of a member’s stock and bond holdings. You’ll make an API call to Alpaca via the Alpaca SDK to get the current closing prices of the SPDR S&P 500 ETF Trust (ticker: SPY) and of the iShares Core US Aggregate Bond ETF (ticker: AGG). For the prototype, assume that the member holds 110 shares of SPY, which represents the stock portion of their portfolio, and 200 shares of AGG, which represents the bond portion. To do all this, complete the following steps:\n",
    "\n",
    "1. In the `Starter_Code` folder, create an environment file (`.env`) to store the values of your Alpaca API key and Alpaca secret key.\n",
    "\n",
    "2. Set the variables for the Alpaca API and secret keys. Using the Alpaca SDK, create the Alpaca `tradeapi.REST` object. In this object, include the parameters for the Alpaca API key, the secret key, and the version number.\n",
    "\n",
    "3. Set the following parameters for the Alpaca API call:\n",
    "\n",
    "    - `tickers`: Use the tickers for the member’s stock and bond holdings.\n",
    "\n",
    "    - `timeframe`: Use a time frame of one day.\n",
    "\n",
    "    - `start_date` and `end_date`: Use the same date for these parameters, and format them with the date of the previous weekday (or `2020-08-07`). This is because you want the one closing price for the most-recent trading day.\n",
    "\n",
    "4. Get the current closing prices for `SPY` and `AGG` by using the Alpaca `get_barset` function. Format the response as a Pandas DataFrame by including the `df` property at the end of the `get_barset` function.\n",
    "\n",
    "5. Navigating the Alpaca response DataFrame, select the `SPY` and `AGG` closing prices, and store them as variables.\n",
    "\n",
    "6. Calculate the value, in US dollars, of the current amount of shares in each of the stock and bond portions of the portfolio, and print the results.\n"
   ]
  },
  {
   "cell_type": "markdown",
   "metadata": {},
   "source": [
    "#### Review the total number of shares held in both (SPY) and (AGG)."
   ]
  },
  {
   "cell_type": "code",
   "execution_count": 25,
   "metadata": {},
   "outputs": [],
   "source": [
    "# Current amount of shares held in both the stock (SPY) and bond (AGG) portion of the portfolio.\n",
    "spy_shares = 110\n",
    "agg_shares = 200\n"
   ]
  },
  {
   "cell_type": "markdown",
   "metadata": {},
   "source": [
    "#### Step 1: In the `Starter_Code` folder, create an environment file (`.env`) to store the values of your Alpaca API key and Alpaca secret key."
   ]
  },
  {
   "cell_type": "markdown",
   "metadata": {},
   "source": [
    "#### Step 2: Set the variables for the Alpaca API and secret keys. Using the Alpaca SDK, create the Alpaca `tradeapi.REST` object. In this object, include the parameters for the Alpaca API key, the secret key, and the version number."
   ]
  },
  {
   "cell_type": "code",
   "execution_count": 27,
   "metadata": {},
   "outputs": [],
   "source": [
    "# Set the variables for the Alpaca API and secret keys\n",
    "alpaca_api_key = os.getenv('ALPACA_API_KEY')\n",
    "alpaca_secret_key = os.getenv('ALPACA_SECRET_KEY')\n",
    "\n",
    "# Create the Alpaca tradeapi.REST object\n",
    "alpaca = tradeapi.REST(alpaca_api_key,\n",
    "                      alpaca_secret_key,\n",
    "                      api_version='v2')\n"
   ]
  },
  {
   "cell_type": "markdown",
   "metadata": {},
   "source": [
    "#### Step 3: Set the following parameters for the Alpaca API call:\n",
    "\n",
    "- `tickers`: Use the tickers for the member’s stock and bond holdings.\n",
    "\n",
    "- `timeframe`: Use a time frame of one day.\n",
    "\n",
    "- `start_date` and `end_date`: Use the same date for these parameters, and format them with the date of the previous weekday (or `2020-08-07`). This is because you want the one closing price for the most-recent trading day.\n"
   ]
  },
  {
   "cell_type": "code",
   "execution_count": 28,
   "metadata": {},
   "outputs": [],
   "source": [
    "# Set the tickers for both the bond and stock portion of the portfolio\n",
    "tickers = ['SPY', 'AGG']\n",
    "\n",
    "# Set timeframe to 1D \n",
    "timeframe = '1D'\n",
    "\n",
    "# Format current date as ISO format\n",
    "# Set both the start and end date at the date of your prior weekday \n",
    "# This will give you the closing price of the previous trading day\n",
    "# Alternatively you can use a start and end date of 2020-08-07\n",
    "start_date = pd.Timestamp(\"2021-12-30\", tz=\"America/New_York\").isoformat()\n",
    "end_date = pd.Timestamp(\"2021-12-30\", tz=\"America/New_York\").isoformat()\n"
   ]
  },
  {
   "cell_type": "markdown",
   "metadata": {},
   "source": [
    "#### Step 4: Get the current closing prices for `SPY` and `AGG` by using the Alpaca `get_barset` function. Format the response as a Pandas DataFrame by including the `df` property at the end of the `get_barset` function."
   ]
  },
  {
   "cell_type": "code",
   "execution_count": 29,
   "metadata": {},
   "outputs": [
    {
     "data": {
      "text/html": [
       "<div>\n",
       "<style scoped>\n",
       "    .dataframe tbody tr th:only-of-type {\n",
       "        vertical-align: middle;\n",
       "    }\n",
       "\n",
       "    .dataframe tbody tr th {\n",
       "        vertical-align: top;\n",
       "    }\n",
       "\n",
       "    .dataframe thead tr th {\n",
       "        text-align: left;\n",
       "    }\n",
       "\n",
       "    .dataframe thead tr:last-of-type th {\n",
       "        text-align: right;\n",
       "    }\n",
       "</style>\n",
       "<table border=\"1\" class=\"dataframe\">\n",
       "  <thead>\n",
       "    <tr>\n",
       "      <th></th>\n",
       "      <th colspan=\"5\" halign=\"left\">AGG</th>\n",
       "      <th colspan=\"5\" halign=\"left\">SPY</th>\n",
       "    </tr>\n",
       "    <tr>\n",
       "      <th></th>\n",
       "      <th>open</th>\n",
       "      <th>high</th>\n",
       "      <th>low</th>\n",
       "      <th>close</th>\n",
       "      <th>volume</th>\n",
       "      <th>open</th>\n",
       "      <th>high</th>\n",
       "      <th>low</th>\n",
       "      <th>close</th>\n",
       "      <th>volume</th>\n",
       "    </tr>\n",
       "    <tr>\n",
       "      <th>time</th>\n",
       "      <th></th>\n",
       "      <th></th>\n",
       "      <th></th>\n",
       "      <th></th>\n",
       "      <th></th>\n",
       "      <th></th>\n",
       "      <th></th>\n",
       "      <th></th>\n",
       "      <th></th>\n",
       "      <th></th>\n",
       "    </tr>\n",
       "  </thead>\n",
       "  <tbody>\n",
       "    <tr>\n",
       "      <th>2021-12-30 00:00:00-05:00</th>\n",
       "      <td>113.99</td>\n",
       "      <td>114.13</td>\n",
       "      <td>113.83</td>\n",
       "      <td>114.12</td>\n",
       "      <td>5044053</td>\n",
       "      <td>477.93</td>\n",
       "      <td>479</td>\n",
       "      <td>475.67</td>\n",
       "      <td>476.15</td>\n",
       "      <td>44681636</td>\n",
       "    </tr>\n",
       "  </tbody>\n",
       "</table>\n",
       "</div>"
      ],
      "text/plain": [
       "                              AGG                                      SPY  \\\n",
       "                             open    high     low   close   volume    open   \n",
       "time                                                                         \n",
       "2021-12-30 00:00:00-05:00  113.99  114.13  113.83  114.12  5044053  477.93   \n",
       "\n",
       "                                                          \n",
       "                          high     low   close    volume  \n",
       "time                                                      \n",
       "2021-12-30 00:00:00-05:00  479  475.67  476.15  44681636  "
      ]
     },
     "execution_count": 29,
     "metadata": {},
     "output_type": "execute_result"
    }
   ],
   "source": [
    "# Use the Alpaca get_barset function to get current closing prices the portfolio\n",
    "# Be sure to set the `df` property after the function to format the response object as a DataFrame\n",
    "df_portfolio = alpaca.get_barset(tickers,\n",
    "                                timeframe,\n",
    "                                start = start_date,\n",
    "                                end = end_date).df\n",
    "\n",
    "# Review the first 5 rows of the Alpaca DataFrame\n",
    "df_portfolio.head()\n"
   ]
  },
  {
   "cell_type": "markdown",
   "metadata": {},
   "source": [
    "#### Step 5: Navigating the Alpaca response DataFrame, select the `SPY` and `AGG` closing prices, and store them as variables."
   ]
  },
  {
   "cell_type": "code",
   "execution_count": 39,
   "metadata": {},
   "outputs": [
    {
     "name": "stdout",
     "output_type": "stream",
     "text": [
      "AGG Closing price: $114.12\n"
     ]
    }
   ],
   "source": [
    "# Access the closing price for AGG from the Alpaca DataFrame\n",
    "# Converting the value to a floating point number\n",
    "agg_close_price = df_portfolio.loc['2021-12-30 00:00:00-05:00'].at['AGG']['close']\n",
    "\n",
    "# Print the AGG closing price\n",
    "print(f\"AGG Closing price: ${agg_close_price:.2f}\")"
   ]
  },
  {
   "cell_type": "code",
   "execution_count": 40,
   "metadata": {},
   "outputs": [
    {
     "name": "stdout",
     "output_type": "stream",
     "text": [
      "SPY Closing price: $476.15\n"
     ]
    }
   ],
   "source": [
    "# Access the closing price for SPY from the Alpaca DataFrame\n",
    "# Converting the value to a floating point number\n",
    "spy_close_price = df_portfolio.loc['2021-12-30 00:00:00-05:00'].at['SPY']['close']\n",
    "\n",
    "# Print the SPY closing price\n",
    "print(f\"SPY Closing price: ${spy_close_price:.2f}\")\n"
   ]
  },
  {
   "cell_type": "markdown",
   "metadata": {},
   "source": [
    "#### Step 6: Calculate the value, in US dollars, of the current amount of shares in each of the stock and bond portions of the portfolio, and print the results."
   ]
  },
  {
   "cell_type": "code",
   "execution_count": 41,
   "metadata": {},
   "outputs": [
    {
     "name": "stdout",
     "output_type": "stream",
     "text": [
      "Bond portfolio value: $22824.00\n"
     ]
    }
   ],
   "source": [
    "# Calculate the current value of the bond portion of the portfolio\n",
    "agg_value = agg_shares * agg_close_price\n",
    "\n",
    "# Print the current value of the bond portfolio\n",
    "print(f\"Bond portfolio value: ${agg_value:.2f}\")\n"
   ]
  },
  {
   "cell_type": "code",
   "execution_count": 42,
   "metadata": {},
   "outputs": [
    {
     "name": "stdout",
     "output_type": "stream",
     "text": [
      "Stock portfolio value: $52376.50\n"
     ]
    }
   ],
   "source": [
    "# Calculate the current value of the stock portion of the portfolio\n",
    "spy_value = spy_shares * spy_close_price\n",
    "\n",
    "# Print the current value of the stock portfolio\n",
    "print(f\"Stock portfolio value: ${spy_value:.2f}\")\n"
   ]
  },
  {
   "cell_type": "code",
   "execution_count": 43,
   "metadata": {},
   "outputs": [
    {
     "name": "stdout",
     "output_type": "stream",
     "text": [
      "Total stock and bond portfolio value: $75200.50\n"
     ]
    }
   ],
   "source": [
    "# Calculate the total value of the stock and bond portion of the portfolio\n",
    "total_stocks_bonds = agg_value + spy_value\n",
    "\n",
    "# Print the current balance of the stock and bond portion of the portfolio\n",
    "print(f\"Total stock and bond portfolio value: ${total_stocks_bonds:.2f}\")\n"
   ]
  },
  {
   "cell_type": "code",
   "execution_count": 45,
   "metadata": {},
   "outputs": [
    {
     "name": "stdout",
     "output_type": "stream",
     "text": [
      "Total portfolio balance (stocks, bonds, crypto): $151094.05\n"
     ]
    }
   ],
   "source": [
    "# Calculate the total value of the member's entire savings portfolio\n",
    "# Add the value of the cryptocurrency wallet to the value of the total stocks and bonds\n",
    "total_portfolio = total_crypto_wallet + total_stocks_bonds\n",
    "\n",
    "# Print total portfolio balance (stocks, bonds, crypto)\n",
    "print(f\"Total portfolio balance (stocks, bonds, crypto): ${total_portfolio:.2f}\")\n"
   ]
  },
  {
   "cell_type": "markdown",
   "metadata": {},
   "source": [
    "### Evaluate the Emergency Fund\n",
    "\n",
    "In this section, you’ll use the valuations for the cryptocurrency wallet and for the stock and bond portions of the portfolio to determine if the credit union member has enough savings to build an emergency fund into their financial plan. To do this, complete the following steps:\n",
    "\n",
    "1. Create a Python list named `savings_data` that has two elements. The first element contains the total value of the cryptocurrency wallet. The second element contains the total value of the stock and bond portions of the portfolio.\n",
    "\n",
    "2. Use the `savings_data` list to create a Pandas DataFrame named `savings_df`, and then display this DataFrame. The function to create the DataFrame should take the following three parameters:\n",
    "\n",
    "    - `savings_data`: Use the list that you just created.\n",
    "\n",
    "    - `columns`: Set this parameter equal to a Python list with a single value called `amount`.\n",
    "\n",
    "    - `index`: Set this parameter equal to a Python list with the values of `crypto` and `stock/bond`.\n",
    "\n",
    "3. Use the `savings_df` DataFrame to plot a pie chart that visualizes the composition of the member’s portfolio. The y-axis of the pie chart uses `amount`. Be sure to add a title.\n",
    "\n",
    "4. Using Python, determine if the current portfolio has enough to create an emergency fund as part of the member’s financial plan. Ideally, an emergency fund should equal to three times the member’s monthly income. To do this, implement the following steps:\n",
    "\n",
    "    1. Create a variable named `emergency_fund_value`, and set it equal to three times the value of the member’s `monthly_income` of $12000. (You set this earlier in Part 1).\n",
    "\n",
    "    2. Create a series of three if statements to determine if the member’s total portfolio is large enough to fund the emergency portfolio:\n",
    "\n",
    "        1. If the total portfolio value is greater than the emergency fund value, display a message congratulating the member for having enough money in this fund.\n",
    "\n",
    "        2. Else if the total portfolio value is equal to the emergency fund value, display a message congratulating the member on reaching this important financial goal.\n",
    "\n",
    "        3. Else the total portfolio is less than the emergency fund value, so display a message showing how many dollars away the member is from reaching the goal. (Subtract the total portfolio value from the emergency fund value.)\n"
   ]
  },
  {
   "cell_type": "markdown",
   "metadata": {},
   "source": [
    "#### Step 1: Create a Python list named `savings_data` that has two elements. The first element contains the total value of the cryptocurrency wallet. The second element contains the total value of the stock and bond portions of the portfolio."
   ]
  },
  {
   "cell_type": "code",
   "execution_count": 46,
   "metadata": {},
   "outputs": [
    {
     "name": "stdout",
     "output_type": "stream",
     "text": [
      "[75893.54999999999, 75200.5]\n"
     ]
    }
   ],
   "source": [
    "# Consolidate financial assets data into a Python list\n",
    "savings_data = [total_crypto_wallet, total_stocks_bonds]\n",
    "\n",
    "# Review the Python list savings_data\n",
    "print(savings_data)\n",
    "    "
   ]
  },
  {
   "cell_type": "markdown",
   "metadata": {},
   "source": [
    "#### Step 2: Use the `savings_data` list to create a Pandas DataFrame named `savings_df`, and then display this DataFrame. The function to create the DataFrame should take the following three parameters:\n",
    "\n",
    "- `savings_data`: Use the list that you just created.\n",
    "\n",
    "- `columns`: Set this parameter equal to a Python list with a single value called `amount`.\n",
    "\n",
    "- `index`: Set this parameter equal to a Python list with the values of `crypto` and `stock/bond`.\n"
   ]
  },
  {
   "cell_type": "code",
   "execution_count": 48,
   "metadata": {},
   "outputs": [
    {
     "data": {
      "text/html": [
       "<div>\n",
       "<style scoped>\n",
       "    .dataframe tbody tr th:only-of-type {\n",
       "        vertical-align: middle;\n",
       "    }\n",
       "\n",
       "    .dataframe tbody tr th {\n",
       "        vertical-align: top;\n",
       "    }\n",
       "\n",
       "    .dataframe thead th {\n",
       "        text-align: right;\n",
       "    }\n",
       "</style>\n",
       "<table border=\"1\" class=\"dataframe\">\n",
       "  <thead>\n",
       "    <tr style=\"text-align: right;\">\n",
       "      <th></th>\n",
       "      <th>amount</th>\n",
       "    </tr>\n",
       "  </thead>\n",
       "  <tbody>\n",
       "    <tr>\n",
       "      <th>crypto</th>\n",
       "      <td>75893.55</td>\n",
       "    </tr>\n",
       "    <tr>\n",
       "      <th>stock/bond</th>\n",
       "      <td>75200.50</td>\n",
       "    </tr>\n",
       "  </tbody>\n",
       "</table>\n",
       "</div>"
      ],
      "text/plain": [
       "              amount\n",
       "crypto      75893.55\n",
       "stock/bond  75200.50"
      ]
     },
     "execution_count": 48,
     "metadata": {},
     "output_type": "execute_result"
    }
   ],
   "source": [
    "# Create a Pandas DataFrame called savings_df \n",
    "savings_df = pd.DataFrame(savings_data, index=['crypto', 'stock/bond'], columns=['amount'])\n",
    "\n",
    "# Display the savings_df DataFrame\n",
    "savings_df.head()\n"
   ]
  },
  {
   "cell_type": "markdown",
   "metadata": {},
   "source": [
    "#### Step 3: Use the `savings_df` DataFrame to plot a pie chart that visualizes the composition of the member’s portfolio. The y-axis of the pie chart uses `amount`. Be sure to add a title."
   ]
  },
  {
   "cell_type": "code",
   "execution_count": 49,
   "metadata": {},
   "outputs": [
    {
     "data": {
      "text/plain": [
       "<AxesSubplot:title={'center':'Portfolio Amounts'}, ylabel='amount'>"
      ]
     },
     "execution_count": 49,
     "metadata": {},
     "output_type": "execute_result"
    },
    {
     "data": {
      "image/png": "[encoded data removed]",
      "text/plain": [
       "<Figure size 432x432 with 1 Axes>"
      ]
     },
     "metadata": {},
     "output_type": "display_data"
    }
   ],
   "source": [
    "# Plot the total value of the member's portfolio (crypto and stock/bond) in a pie chart\n",
    "savings_df.plot.pie(y='amount', title=\"Portfolio Amounts\", figsize=(6,6))"
   ]
  },
  {
   "cell_type": "markdown",
   "metadata": {},
   "source": [
    "#### Step 4: Using Python, determine if the current portfolio has enough to create an emergency fund as part of the member’s financial plan. Ideally, an emergency fund should equal to three times the member’s monthly income. To do this, implement the following steps:\n",
    "\n",
    "Step 1. Create a variable named `emergency_fund_value`, and set it equal to three times the value of the member’s `monthly_income` of 12000. (You set this earlier in Part 1).\n",
    "\n",
    "Step 2. Create a series of three if statements to determine if the member’s total portfolio is large enough to fund the emergency portfolio:\n",
    "\n",
    "* If the total portfolio value is greater than the emergency fund value, display a message congratulating the member for having enough money in this fund.\n",
    "\n",
    "* Else if the total portfolio value is equal to the emergency fund value, display a message congratulating the member on reaching this important financial goal.\n",
    "\n",
    "* Else the total portfolio is less than the emergency fund value, so display a message showing how many dollars away the member is from reaching the goal. (Subtract the total portfolio value from the emergency fund value.)\n"
   ]
  },
  {
   "cell_type": "markdown",
   "metadata": {},
   "source": [
    "##### Step 4-1: Create a variable named `emergency_fund_value`, and set it equal to three times the value of the member’s `monthly_income` of 12000. (You set this earlier in Part 1)."
   ]
  },
  {
   "cell_type": "code",
   "execution_count": 51,
   "metadata": {},
   "outputs": [],
   "source": [
    "# Create a variable named emergency_fund_value\n",
    "emergency_fund_value = 3 * monthly_income"
   ]
  },
  {
   "cell_type": "markdown",
   "metadata": {},
   "source": [
    "##### Step 4-2: Create a series of three if statements to determine if the member’s total portfolio is large enough to fund the emergency portfolio:\n",
    "\n",
    "* If the total portfolio value is greater than the emergency fund value, display a message congratulating the member for having enough money in this fund.\n",
    "\n",
    "* Else if the total portfolio value is equal to the emergency fund value, display a message congratulating the member on reaching this important financial goal.\n",
    "\n",
    "* Else the total portfolio is less than the emergency fund value, so display a message showing how many dollars away the member is from reaching the goal. (Subtract the total portfolio value from the emergency fund value.)"
   ]
  },
  {
   "cell_type": "code",
   "execution_count": 52,
   "metadata": {},
   "outputs": [
    {
     "name": "stdout",
     "output_type": "stream",
     "text": [
      "Congratulations! $151094.05 is enough for an emergency fund.\n"
     ]
    }
   ],
   "source": [
    "# Evaluate the possibility of creating an emergency fund with 3 conditions:\n",
    "if total_portfolio > emergency_fund_value:\n",
    "    print(f\"Congratulations! ${total_portfolio:.2f} is enough for an emergency fund.\")\n",
    "elif total_portfolio == emergency_fund_value:\n",
    "    print(f\"Congratulations! ${total_portfolio:.2f} means you have reached this important goal.\")\n",
    "else:\n",
    "    dollars_remaining = emergency_fund_value - total_portfolio\n",
    "    print(f\"Not quite there. You need ${dollars_remaining:.2f} to reach the emergency fund goal.\")"
   ]
  },
  {
   "cell_type": "markdown",
   "metadata": {},
   "source": [
    "## Part 2: Create a Financial Planner for Retirement"
   ]
  },
  {
   "cell_type": "markdown",
   "metadata": {},
   "source": [
    "### Create the Monte Carlo Simulation\n",
    "\n",
    "In this section, you’ll use the MCForecastTools library to create a Monte Carlo simulation for the member’s savings portfolio. To do this, complete the following steps:\n",
    "\n",
    "1. Make an API call via the Alpaca SDK to get 3 years of historical closing prices for a traditional 60/40 portfolio split: 60% stocks (SPY) and 40% bonds (AGG).\n",
    "\n",
    "2. Run a Monte Carlo simulation of 500 samples and 30 years for the 60/40 portfolio, and then plot the results.The following image shows the overlay line plot resulting from a simulation with these characteristics. However, because a random number generator is used to run each live Monte Carlo simulation, your image will differ slightly from this exact image:\n",
    "\n",
    "![A screenshot depicts the resulting plot.](./Images/5-4-monte-carlo-line-plot.png)\n",
    "\n",
    "3. Plot the probability distribution of the Monte Carlo simulation. Plot the probability distribution of the Monte Carlo simulation. The following image shows the histogram plot resulting from a simulation with these characteristics. However, because a random number generator is used to run each live Monte Carlo simulation, your image will differ slightly from this exact image:\n",
    "\n",
    "![A screenshot depicts the histogram plot.](./Images/5-4-monte-carlo-histogram.png)\n",
    "\n",
    "4. Generate the summary statistics for the Monte Carlo simulation.\n",
    "\n"
   ]
  },
  {
   "cell_type": "markdown",
   "metadata": {},
   "source": [
    "#### Step 1: Make an API call via the Alpaca SDK to get 3 years of historical closing prices for a traditional 60/40 portfolio split: 60% stocks (SPY) and 40% bonds (AGG)."
   ]
  },
  {
   "cell_type": "code",
   "execution_count": 54,
   "metadata": {},
   "outputs": [],
   "source": [
    "# Set start and end dates of 3 years back from your current date\n",
    "# Alternatively, you can use an end date of 2020-08-07 and work 3 years back from that date \n",
    "retirement_start_date = pd.Timestamp(\"2018-12-30\", tz=\"America/New_York\").isoformat()\n",
    "retirement_end_date = pd.Timestamp(\"2021-12-30\", tz=\"America/New_York\").isoformat()\n",
    "\n",
    "# Set number of rows to 1000 to retrieve the maximum amount of rows\n",
    "limit_rows = 1000"
   ]
  },
  {
   "cell_type": "code",
   "execution_count": 55,
   "metadata": {},
   "outputs": [
    {
     "data": {
      "text/html": [
       "<div>\n",
       "<style scoped>\n",
       "    .dataframe tbody tr th:only-of-type {\n",
       "        vertical-align: middle;\n",
       "    }\n",
       "\n",
       "    .dataframe tbody tr th {\n",
       "        vertical-align: top;\n",
       "    }\n",
       "\n",
       "    .dataframe thead tr th {\n",
       "        text-align: left;\n",
       "    }\n",
       "\n",
       "    .dataframe thead tr:last-of-type th {\n",
       "        text-align: right;\n",
       "    }\n",
       "</style>\n",
       "<table border=\"1\" class=\"dataframe\">\n",
       "  <thead>\n",
       "    <tr>\n",
       "      <th></th>\n",
       "      <th colspan=\"5\" halign=\"left\">AGG</th>\n",
       "      <th colspan=\"5\" halign=\"left\">SPY</th>\n",
       "    </tr>\n",
       "    <tr>\n",
       "      <th></th>\n",
       "      <th>open</th>\n",
       "      <th>high</th>\n",
       "      <th>low</th>\n",
       "      <th>close</th>\n",
       "      <th>volume</th>\n",
       "      <th>open</th>\n",
       "      <th>high</th>\n",
       "      <th>low</th>\n",
       "      <th>close</th>\n",
       "      <th>volume</th>\n",
       "    </tr>\n",
       "    <tr>\n",
       "      <th>time</th>\n",
       "      <th></th>\n",
       "      <th></th>\n",
       "      <th></th>\n",
       "      <th></th>\n",
       "      <th></th>\n",
       "      <th></th>\n",
       "      <th></th>\n",
       "      <th></th>\n",
       "      <th></th>\n",
       "      <th></th>\n",
       "    </tr>\n",
       "  </thead>\n",
       "  <tbody>\n",
       "    <tr>\n",
       "      <th>2018-12-31 00:00:00-05:00</th>\n",
       "      <td>106.12</td>\n",
       "      <td>106.510</td>\n",
       "      <td>105.6200</td>\n",
       "      <td>106.495</td>\n",
       "      <td>8349838.0</td>\n",
       "      <td>249.56</td>\n",
       "      <td>250.16</td>\n",
       "      <td>247.47</td>\n",
       "      <td>248.55</td>\n",
       "      <td>100767777</td>\n",
       "    </tr>\n",
       "    <tr>\n",
       "      <th>2019-01-02 00:00:00-05:00</th>\n",
       "      <td>106.55</td>\n",
       "      <td>106.610</td>\n",
       "      <td>106.4701</td>\n",
       "      <td>106.585</td>\n",
       "      <td>10164756.0</td>\n",
       "      <td>245.98</td>\n",
       "      <td>251.21</td>\n",
       "      <td>245.95</td>\n",
       "      <td>249.89</td>\n",
       "      <td>107236613</td>\n",
       "    </tr>\n",
       "    <tr>\n",
       "      <th>2019-01-03 00:00:00-05:00</th>\n",
       "      <td>106.57</td>\n",
       "      <td>107.075</td>\n",
       "      <td>106.5700</td>\n",
       "      <td>107.020</td>\n",
       "      <td>6260265.0</td>\n",
       "      <td>248.23</td>\n",
       "      <td>248.57</td>\n",
       "      <td>244.03</td>\n",
       "      <td>244.46</td>\n",
       "      <td>113782919</td>\n",
       "    </tr>\n",
       "    <tr>\n",
       "      <th>2019-01-04 00:00:00-05:00</th>\n",
       "      <td>106.66</td>\n",
       "      <td>106.720</td>\n",
       "      <td>106.5500</td>\n",
       "      <td>106.695</td>\n",
       "      <td>7755476.0</td>\n",
       "      <td>247.59</td>\n",
       "      <td>253.11</td>\n",
       "      <td>247.17</td>\n",
       "      <td>252.41</td>\n",
       "      <td>122528832</td>\n",
       "    </tr>\n",
       "    <tr>\n",
       "      <th>2019-01-07 00:00:00-05:00</th>\n",
       "      <td>106.72</td>\n",
       "      <td>106.790</td>\n",
       "      <td>106.4600</td>\n",
       "      <td>106.470</td>\n",
       "      <td>6545877.0</td>\n",
       "      <td>252.69</td>\n",
       "      <td>255.95</td>\n",
       "      <td>251.69</td>\n",
       "      <td>254.40</td>\n",
       "      <td>88317608</td>\n",
       "    </tr>\n",
       "  </tbody>\n",
       "</table>\n",
       "</div>"
      ],
      "text/plain": [
       "                              AGG                                          \\\n",
       "                             open     high       low    close      volume   \n",
       "time                                                                        \n",
       "2018-12-31 00:00:00-05:00  106.12  106.510  105.6200  106.495   8349838.0   \n",
       "2019-01-02 00:00:00-05:00  106.55  106.610  106.4701  106.585  10164756.0   \n",
       "2019-01-03 00:00:00-05:00  106.57  107.075  106.5700  107.020   6260265.0   \n",
       "2019-01-04 00:00:00-05:00  106.66  106.720  106.5500  106.695   7755476.0   \n",
       "2019-01-07 00:00:00-05:00  106.72  106.790  106.4600  106.470   6545877.0   \n",
       "\n",
       "                              SPY                                     \n",
       "                             open    high     low   close     volume  \n",
       "time                                                                  \n",
       "2018-12-31 00:00:00-05:00  249.56  250.16  247.47  248.55  100767777  \n",
       "2019-01-02 00:00:00-05:00  245.98  251.21  245.95  249.89  107236613  \n",
       "2019-01-03 00:00:00-05:00  248.23  248.57  244.03  244.46  113782919  \n",
       "2019-01-04 00:00:00-05:00  247.59  253.11  247.17  252.41  122528832  \n",
       "2019-01-07 00:00:00-05:00  252.69  255.95  251.69  254.40   88317608  "
      ]
     },
     "metadata": {},
     "output_type": "display_data"
    },
    {
     "data": {
      "text/html": [
       "<div>\n",
       "<style scoped>\n",
       "    .dataframe tbody tr th:only-of-type {\n",
       "        vertical-align: middle;\n",
       "    }\n",
       "\n",
       "    .dataframe tbody tr th {\n",
       "        vertical-align: top;\n",
       "    }\n",
       "\n",
       "    .dataframe thead tr th {\n",
       "        text-align: left;\n",
       "    }\n",
       "\n",
       "    .dataframe thead tr:last-of-type th {\n",
       "        text-align: right;\n",
       "    }\n",
       "</style>\n",
       "<table border=\"1\" class=\"dataframe\">\n",
       "  <thead>\n",
       "    <tr>\n",
       "      <th></th>\n",
       "      <th colspan=\"5\" halign=\"left\">AGG</th>\n",
       "      <th colspan=\"5\" halign=\"left\">SPY</th>\n",
       "    </tr>\n",
       "    <tr>\n",
       "      <th></th>\n",
       "      <th>open</th>\n",
       "      <th>high</th>\n",
       "      <th>low</th>\n",
       "      <th>close</th>\n",
       "      <th>volume</th>\n",
       "      <th>open</th>\n",
       "      <th>high</th>\n",
       "      <th>low</th>\n",
       "      <th>close</th>\n",
       "      <th>volume</th>\n",
       "    </tr>\n",
       "    <tr>\n",
       "      <th>time</th>\n",
       "      <th></th>\n",
       "      <th></th>\n",
       "      <th></th>\n",
       "      <th></th>\n",
       "      <th></th>\n",
       "      <th></th>\n",
       "      <th></th>\n",
       "      <th></th>\n",
       "      <th></th>\n",
       "      <th></th>\n",
       "    </tr>\n",
       "  </thead>\n",
       "  <tbody>\n",
       "    <tr>\n",
       "      <th>2021-12-23 00:00:00-05:00</th>\n",
       "      <td>114.29</td>\n",
       "      <td>114.31</td>\n",
       "      <td>114.07</td>\n",
       "      <td>114.19</td>\n",
       "      <td>5304915.0</td>\n",
       "      <td>468.75</td>\n",
       "      <td>472.19</td>\n",
       "      <td>468.64</td>\n",
       "      <td>470.58</td>\n",
       "      <td>47149529</td>\n",
       "    </tr>\n",
       "    <tr>\n",
       "      <th>2021-12-27 00:00:00-05:00</th>\n",
       "      <td>114.15</td>\n",
       "      <td>114.30</td>\n",
       "      <td>114.13</td>\n",
       "      <td>114.27</td>\n",
       "      <td>5069840.0</td>\n",
       "      <td>472.03</td>\n",
       "      <td>477.31</td>\n",
       "      <td>472.01</td>\n",
       "      <td>477.27</td>\n",
       "      <td>46260198</td>\n",
       "    </tr>\n",
       "    <tr>\n",
       "      <th>2021-12-28 00:00:00-05:00</th>\n",
       "      <td>114.43</td>\n",
       "      <td>114.45</td>\n",
       "      <td>114.17</td>\n",
       "      <td>114.22</td>\n",
       "      <td>4892072.0</td>\n",
       "      <td>477.72</td>\n",
       "      <td>478.81</td>\n",
       "      <td>476.06</td>\n",
       "      <td>476.89</td>\n",
       "      <td>37370466</td>\n",
       "    </tr>\n",
       "    <tr>\n",
       "      <th>2021-12-29 00:00:00-05:00</th>\n",
       "      <td>113.99</td>\n",
       "      <td>114.05</td>\n",
       "      <td>113.81</td>\n",
       "      <td>113.87</td>\n",
       "      <td>5712959.0</td>\n",
       "      <td>477.00</td>\n",
       "      <td>478.56</td>\n",
       "      <td>475.92</td>\n",
       "      <td>477.46</td>\n",
       "      <td>47223213</td>\n",
       "    </tr>\n",
       "    <tr>\n",
       "      <th>2021-12-30 00:00:00-05:00</th>\n",
       "      <td>113.99</td>\n",
       "      <td>114.13</td>\n",
       "      <td>113.83</td>\n",
       "      <td>114.12</td>\n",
       "      <td>5044053.0</td>\n",
       "      <td>477.93</td>\n",
       "      <td>479.00</td>\n",
       "      <td>475.67</td>\n",
       "      <td>476.15</td>\n",
       "      <td>44681636</td>\n",
       "    </tr>\n",
       "  </tbody>\n",
       "</table>\n",
       "</div>"
      ],
      "text/plain": [
       "                              AGG                                        SPY  \\\n",
       "                             open    high     low   close     volume    open   \n",
       "time                                                                           \n",
       "2021-12-23 00:00:00-05:00  114.29  114.31  114.07  114.19  5304915.0  468.75   \n",
       "2021-12-27 00:00:00-05:00  114.15  114.30  114.13  114.27  5069840.0  472.03   \n",
       "2021-12-28 00:00:00-05:00  114.43  114.45  114.17  114.22  4892072.0  477.72   \n",
       "2021-12-29 00:00:00-05:00  113.99  114.05  113.81  113.87  5712959.0  477.00   \n",
       "2021-12-30 00:00:00-05:00  113.99  114.13  113.83  114.12  5044053.0  477.93   \n",
       "\n",
       "                                                             \n",
       "                             high     low   close    volume  \n",
       "time                                                         \n",
       "2021-12-23 00:00:00-05:00  472.19  468.64  470.58  47149529  \n",
       "2021-12-27 00:00:00-05:00  477.31  472.01  477.27  46260198  \n",
       "2021-12-28 00:00:00-05:00  478.81  476.06  476.89  37370466  \n",
       "2021-12-29 00:00:00-05:00  478.56  475.92  477.46  47223213  \n",
       "2021-12-30 00:00:00-05:00  479.00  475.67  476.15  44681636  "
      ]
     },
     "metadata": {},
     "output_type": "display_data"
    }
   ],
   "source": [
    "# Use the Alpaca get_barset function to make the API call to get the 3 years worth of pricing data\n",
    "# The tickers and timeframe parameters should have been set in Part 1 of this activity \n",
    "# The start and end dates should be updated with the information set above\n",
    "# Remember to add the df property to the end of the call so the response is returned as a DataFrame\n",
    "retirement_df = alpaca.get_barset(tickers,\n",
    "                                 timeframe,\n",
    "                                 limit=limit_rows,\n",
    "                                 start=retirement_start_date,\n",
    "                                 end=retirement_end_date).df\n",
    "\n",
    "\n",
    "# Display both the first and last five rows of the DataFrame\n",
    "display(retirement_df.head())\n",
    "display(retirement_df.tail())\n"
   ]
  },
  {
   "cell_type": "markdown",
   "metadata": {},
   "source": [
    "#### Step 2: Run a Monte Carlo simulation of 500 samples and 30 years for the 60/40 portfolio, and then plot the results."
   ]
  },
  {
   "cell_type": "code",
   "execution_count": 56,
   "metadata": {},
   "outputs": [
    {
     "data": {
      "text/html": [
       "<div>\n",
       "<style scoped>\n",
       "    .dataframe tbody tr th:only-of-type {\n",
       "        vertical-align: middle;\n",
       "    }\n",
       "\n",
       "    .dataframe tbody tr th {\n",
       "        vertical-align: top;\n",
       "    }\n",
       "\n",
       "    .dataframe thead tr th {\n",
       "        text-align: left;\n",
       "    }\n",
       "\n",
       "    .dataframe thead tr:last-of-type th {\n",
       "        text-align: right;\n",
       "    }\n",
       "</style>\n",
       "<table border=\"1\" class=\"dataframe\">\n",
       "  <thead>\n",
       "    <tr>\n",
       "      <th></th>\n",
       "      <th colspan=\"6\" halign=\"left\">AGG</th>\n",
       "      <th colspan=\"6\" halign=\"left\">SPY</th>\n",
       "    </tr>\n",
       "    <tr>\n",
       "      <th></th>\n",
       "      <th>open</th>\n",
       "      <th>high</th>\n",
       "      <th>low</th>\n",
       "      <th>close</th>\n",
       "      <th>volume</th>\n",
       "      <th>daily_return</th>\n",
       "      <th>open</th>\n",
       "      <th>high</th>\n",
       "      <th>low</th>\n",
       "      <th>close</th>\n",
       "      <th>volume</th>\n",
       "      <th>daily_return</th>\n",
       "    </tr>\n",
       "    <tr>\n",
       "      <th>time</th>\n",
       "      <th></th>\n",
       "      <th></th>\n",
       "      <th></th>\n",
       "      <th></th>\n",
       "      <th></th>\n",
       "      <th></th>\n",
       "      <th></th>\n",
       "      <th></th>\n",
       "      <th></th>\n",
       "      <th></th>\n",
       "      <th></th>\n",
       "      <th></th>\n",
       "    </tr>\n",
       "  </thead>\n",
       "  <tbody>\n",
       "    <tr>\n",
       "      <th>2018-12-31 00:00:00-05:00</th>\n",
       "      <td>106.12</td>\n",
       "      <td>106.510</td>\n",
       "      <td>105.6200</td>\n",
       "      <td>106.495</td>\n",
       "      <td>8349838.0</td>\n",
       "      <td>NaN</td>\n",
       "      <td>249.56</td>\n",
       "      <td>250.16</td>\n",
       "      <td>247.47</td>\n",
       "      <td>248.55</td>\n",
       "      <td>100767777</td>\n",
       "      <td>NaN</td>\n",
       "    </tr>\n",
       "    <tr>\n",
       "      <th>2019-01-02 00:00:00-05:00</th>\n",
       "      <td>106.55</td>\n",
       "      <td>106.610</td>\n",
       "      <td>106.4701</td>\n",
       "      <td>106.585</td>\n",
       "      <td>10164756.0</td>\n",
       "      <td>0.000845</td>\n",
       "      <td>245.98</td>\n",
       "      <td>251.21</td>\n",
       "      <td>245.95</td>\n",
       "      <td>249.89</td>\n",
       "      <td>107236613</td>\n",
       "      <td>0.005391</td>\n",
       "    </tr>\n",
       "    <tr>\n",
       "      <th>2019-01-03 00:00:00-05:00</th>\n",
       "      <td>106.57</td>\n",
       "      <td>107.075</td>\n",
       "      <td>106.5700</td>\n",
       "      <td>107.020</td>\n",
       "      <td>6260265.0</td>\n",
       "      <td>0.004081</td>\n",
       "      <td>248.23</td>\n",
       "      <td>248.57</td>\n",
       "      <td>244.03</td>\n",
       "      <td>244.46</td>\n",
       "      <td>113782919</td>\n",
       "      <td>-0.021730</td>\n",
       "    </tr>\n",
       "    <tr>\n",
       "      <th>2019-01-04 00:00:00-05:00</th>\n",
       "      <td>106.66</td>\n",
       "      <td>106.720</td>\n",
       "      <td>106.5500</td>\n",
       "      <td>106.695</td>\n",
       "      <td>7755476.0</td>\n",
       "      <td>-0.003037</td>\n",
       "      <td>247.59</td>\n",
       "      <td>253.11</td>\n",
       "      <td>247.17</td>\n",
       "      <td>252.41</td>\n",
       "      <td>122528832</td>\n",
       "      <td>0.032521</td>\n",
       "    </tr>\n",
       "    <tr>\n",
       "      <th>2019-01-07 00:00:00-05:00</th>\n",
       "      <td>106.72</td>\n",
       "      <td>106.790</td>\n",
       "      <td>106.4600</td>\n",
       "      <td>106.470</td>\n",
       "      <td>6545877.0</td>\n",
       "      <td>-0.002109</td>\n",
       "      <td>252.69</td>\n",
       "      <td>255.95</td>\n",
       "      <td>251.69</td>\n",
       "      <td>254.40</td>\n",
       "      <td>88317608</td>\n",
       "      <td>0.007884</td>\n",
       "    </tr>\n",
       "  </tbody>\n",
       "</table>\n",
       "</div>"
      ],
      "text/plain": [
       "                              AGG                                          \\\n",
       "                             open     high       low    close      volume   \n",
       "time                                                                        \n",
       "2018-12-31 00:00:00-05:00  106.12  106.510  105.6200  106.495   8349838.0   \n",
       "2019-01-02 00:00:00-05:00  106.55  106.610  106.4701  106.585  10164756.0   \n",
       "2019-01-03 00:00:00-05:00  106.57  107.075  106.5700  107.020   6260265.0   \n",
       "2019-01-04 00:00:00-05:00  106.66  106.720  106.5500  106.695   7755476.0   \n",
       "2019-01-07 00:00:00-05:00  106.72  106.790  106.4600  106.470   6545877.0   \n",
       "\n",
       "                                           SPY                          \\\n",
       "                          daily_return    open    high     low   close   \n",
       "time                                                                     \n",
       "2018-12-31 00:00:00-05:00          NaN  249.56  250.16  247.47  248.55   \n",
       "2019-01-02 00:00:00-05:00     0.000845  245.98  251.21  245.95  249.89   \n",
       "2019-01-03 00:00:00-05:00     0.004081  248.23  248.57  244.03  244.46   \n",
       "2019-01-04 00:00:00-05:00    -0.003037  247.59  253.11  247.17  252.41   \n",
       "2019-01-07 00:00:00-05:00    -0.002109  252.69  255.95  251.69  254.40   \n",
       "\n",
       "                                                   \n",
       "                              volume daily_return  \n",
       "time                                               \n",
       "2018-12-31 00:00:00-05:00  100767777          NaN  \n",
       "2019-01-02 00:00:00-05:00  107236613     0.005391  \n",
       "2019-01-03 00:00:00-05:00  113782919    -0.021730  \n",
       "2019-01-04 00:00:00-05:00  122528832     0.032521  \n",
       "2019-01-07 00:00:00-05:00   88317608     0.007884  "
      ]
     },
     "execution_count": 56,
     "metadata": {},
     "output_type": "execute_result"
    }
   ],
   "source": [
    "# Configure the Monte Carlo simulation to forecast 30 years cumulative returns\n",
    "# The weights should be split 40% to AGG and 60% to SPY.\n",
    "# Run 500 samples.\n",
    "mc_sim_weighted = MCSimulation(portfolio_data = retirement_df,\n",
    "                               weights = [.40, .60 ],\n",
    "                               num_simulation = 500,\n",
    "                               num_trading_days = 252 * 30)\n",
    "\n",
    "# Review the simulation input data\n",
    "mc_sim_weighted.portfolio_data.head()"
   ]
  },
  {
   "cell_type": "code",
   "execution_count": 57,
   "metadata": {},
   "outputs": [
    {
     "name": "stdout",
     "output_type": "stream",
     "text": [
      "Running Monte Carlo simulation number 0.\n",
      "Running Monte Carlo simulation number 10.\n",
      "Running Monte Carlo simulation number 20.\n",
      "Running Monte Carlo simulation number 30.\n",
      "Running Monte Carlo simulation number 40.\n",
      "Running Monte Carlo simulation number 50.\n",
      "Running Monte Carlo simulation number 60.\n",
      "Running Monte Carlo simulation number 70.\n",
      "Running Monte Carlo simulation number 80.\n",
      "Running Monte Carlo simulation number 90.\n",
      "Running Monte Carlo simulation number 100.\n"
     ]
    },
    {
     "name": "stderr",
     "output_type": "stream",
     "text": [
      "/Users/dfl/Documents/fintech/modules_work/05_finance_apis/challenge/financial_planner/MCForecastTools.py:117: PerformanceWarning: DataFrame is highly fragmented.  This is usually the result of calling `frame.insert` many times, which has poor performance.  Consider joining all columns at once using pd.concat(axis=1) instead.  To get a de-fragmented frame, use `newframe = frame.copy()`\n",
      "  portfolio_cumulative_returns[n] = (1 + sim_df.fillna(0)).cumprod()\n"
     ]
    },
    {
     "name": "stdout",
     "output_type": "stream",
     "text": [
      "Running Monte Carlo simulation number 110.\n",
      "Running Monte Carlo simulation number 120.\n",
      "Running Monte Carlo simulation number 130.\n",
      "Running Monte Carlo simulation number 140.\n",
      "Running Monte Carlo simulation number 150.\n",
      "Running Monte Carlo simulation number 160.\n",
      "Running Monte Carlo simulation number 170.\n",
      "Running Monte Carlo simulation number 180.\n",
      "Running Monte Carlo simulation number 190.\n",
      "Running Monte Carlo simulation number 200.\n",
      "Running Monte Carlo simulation number 210.\n",
      "Running Monte Carlo simulation number 220.\n",
      "Running Monte Carlo simulation number 230.\n",
      "Running Monte Carlo simulation number 240.\n",
      "Running Monte Carlo simulation number 250.\n",
      "Running Monte Carlo simulation number 260.\n",
      "Running Monte Carlo simulation number 270.\n",
      "Running Monte Carlo simulation number 280.\n",
      "Running Monte Carlo simulation number 290.\n",
      "Running Monte Carlo simulation number 300.\n",
      "Running Monte Carlo simulation number 310.\n",
      "Running Monte Carlo simulation number 320.\n",
      "Running Monte Carlo simulation number 330.\n",
      "Running Monte Carlo simulation number 340.\n",
      "Running Monte Carlo simulation number 350.\n",
      "Running Monte Carlo simulation number 360.\n",
      "Running Monte Carlo simulation number 370.\n",
      "Running Monte Carlo simulation number 380.\n",
      "Running Monte Carlo simulation number 390.\n",
      "Running Monte Carlo simulation number 400.\n",
      "Running Monte Carlo simulation number 410.\n",
      "Running Monte Carlo simulation number 420.\n",
      "Running Monte Carlo simulation number 430.\n",
      "Running Monte Carlo simulation number 440.\n",
      "Running Monte Carlo simulation number 450.\n",
      "Running Monte Carlo simulation number 460.\n",
      "Running Monte Carlo simulation number 470.\n",
      "Running Monte Carlo simulation number 480.\n",
      "Running Monte Carlo simulation number 490.\n"
     ]
    },
    {
     "data": {
      "text/html": [
       "<div>\n",
       "<style scoped>\n",
       "    .dataframe tbody tr th:only-of-type {\n",
       "        vertical-align: middle;\n",
       "    }\n",
       "\n",
       "    .dataframe tbody tr th {\n",
       "        vertical-align: top;\n",
       "    }\n",
       "\n",
       "    .dataframe thead th {\n",
       "        text-align: right;\n",
       "    }\n",
       "</style>\n",
       "<table border=\"1\" class=\"dataframe\">\n",
       "  <thead>\n",
       "    <tr style=\"text-align: right;\">\n",
       "      <th></th>\n",
       "      <th>0</th>\n",
       "      <th>1</th>\n",
       "      <th>2</th>\n",
       "      <th>3</th>\n",
       "      <th>4</th>\n",
       "      <th>5</th>\n",
       "      <th>6</th>\n",
       "      <th>7</th>\n",
       "      <th>8</th>\n",
       "      <th>9</th>\n",
       "      <th>...</th>\n",
       "      <th>490</th>\n",
       "      <th>491</th>\n",
       "      <th>492</th>\n",
       "      <th>493</th>\n",
       "      <th>494</th>\n",
       "      <th>495</th>\n",
       "      <th>496</th>\n",
       "      <th>497</th>\n",
       "      <th>498</th>\n",
       "      <th>499</th>\n",
       "    </tr>\n",
       "  </thead>\n",
       "  <tbody>\n",
       "    <tr>\n",
       "      <th>0</th>\n",
       "      <td>1.000000</td>\n",
       "      <td>1.000000</td>\n",
       "      <td>1.000000</td>\n",
       "      <td>1.000000</td>\n",
       "      <td>1.000000</td>\n",
       "      <td>1.000000</td>\n",
       "      <td>1.000000</td>\n",
       "      <td>1.000000</td>\n",
       "      <td>1.000000</td>\n",
       "      <td>1.000000</td>\n",
       "      <td>...</td>\n",
       "      <td>1.000000</td>\n",
       "      <td>1.000000</td>\n",
       "      <td>1.000000</td>\n",
       "      <td>1.000000</td>\n",
       "      <td>1.000000</td>\n",
       "      <td>1.000000</td>\n",
       "      <td>1.000000</td>\n",
       "      <td>1.000000</td>\n",
       "      <td>1.000000</td>\n",
       "      <td>1.000000</td>\n",
       "    </tr>\n",
       "    <tr>\n",
       "      <th>1</th>\n",
       "      <td>1.013222</td>\n",
       "      <td>1.002907</td>\n",
       "      <td>0.998567</td>\n",
       "      <td>1.011313</td>\n",
       "      <td>1.013746</td>\n",
       "      <td>1.013895</td>\n",
       "      <td>1.001599</td>\n",
       "      <td>0.998179</td>\n",
       "      <td>0.993365</td>\n",
       "      <td>1.013644</td>\n",
       "      <td>...</td>\n",
       "      <td>0.989609</td>\n",
       "      <td>0.989582</td>\n",
       "      <td>1.008590</td>\n",
       "      <td>1.015528</td>\n",
       "      <td>1.001641</td>\n",
       "      <td>1.011036</td>\n",
       "      <td>0.993178</td>\n",
       "      <td>0.996988</td>\n",
       "      <td>1.002089</td>\n",
       "      <td>1.000435</td>\n",
       "    </tr>\n",
       "    <tr>\n",
       "      <th>2</th>\n",
       "      <td>1.021244</td>\n",
       "      <td>1.011085</td>\n",
       "      <td>1.012330</td>\n",
       "      <td>1.010775</td>\n",
       "      <td>1.014562</td>\n",
       "      <td>1.007275</td>\n",
       "      <td>1.004281</td>\n",
       "      <td>0.999640</td>\n",
       "      <td>1.008386</td>\n",
       "      <td>1.016975</td>\n",
       "      <td>...</td>\n",
       "      <td>0.992857</td>\n",
       "      <td>0.994359</td>\n",
       "      <td>0.990336</td>\n",
       "      <td>1.000672</td>\n",
       "      <td>0.998420</td>\n",
       "      <td>1.012990</td>\n",
       "      <td>0.988566</td>\n",
       "      <td>0.984104</td>\n",
       "      <td>1.017624</td>\n",
       "      <td>1.010921</td>\n",
       "    </tr>\n",
       "    <tr>\n",
       "      <th>3</th>\n",
       "      <td>1.013149</td>\n",
       "      <td>1.009953</td>\n",
       "      <td>1.020617</td>\n",
       "      <td>1.023436</td>\n",
       "      <td>1.024798</td>\n",
       "      <td>1.019957</td>\n",
       "      <td>1.005645</td>\n",
       "      <td>1.010105</td>\n",
       "      <td>0.996977</td>\n",
       "      <td>1.019919</td>\n",
       "      <td>...</td>\n",
       "      <td>0.992225</td>\n",
       "      <td>0.992367</td>\n",
       "      <td>0.990370</td>\n",
       "      <td>0.995055</td>\n",
       "      <td>1.019593</td>\n",
       "      <td>1.000822</td>\n",
       "      <td>0.979928</td>\n",
       "      <td>1.005295</td>\n",
       "      <td>1.029868</td>\n",
       "      <td>1.033006</td>\n",
       "    </tr>\n",
       "    <tr>\n",
       "      <th>4</th>\n",
       "      <td>1.016970</td>\n",
       "      <td>1.011370</td>\n",
       "      <td>1.001534</td>\n",
       "      <td>1.031301</td>\n",
       "      <td>1.014413</td>\n",
       "      <td>1.018801</td>\n",
       "      <td>1.016154</td>\n",
       "      <td>1.013046</td>\n",
       "      <td>0.981871</td>\n",
       "      <td>1.018979</td>\n",
       "      <td>...</td>\n",
       "      <td>0.978116</td>\n",
       "      <td>0.985342</td>\n",
       "      <td>0.996562</td>\n",
       "      <td>0.977154</td>\n",
       "      <td>1.021764</td>\n",
       "      <td>1.005311</td>\n",
       "      <td>0.969614</td>\n",
       "      <td>1.014724</td>\n",
       "      <td>1.031294</td>\n",
       "      <td>1.029846</td>\n",
       "    </tr>\n",
       "    <tr>\n",
       "      <th>...</th>\n",
       "      <td>...</td>\n",
       "      <td>...</td>\n",
       "      <td>...</td>\n",
       "      <td>...</td>\n",
       "      <td>...</td>\n",
       "      <td>...</td>\n",
       "      <td>...</td>\n",
       "      <td>...</td>\n",
       "      <td>...</td>\n",
       "      <td>...</td>\n",
       "      <td>...</td>\n",
       "      <td>...</td>\n",
       "      <td>...</td>\n",
       "      <td>...</td>\n",
       "      <td>...</td>\n",
       "      <td>...</td>\n",
       "      <td>...</td>\n",
       "      <td>...</td>\n",
       "      <td>...</td>\n",
       "      <td>...</td>\n",
       "      <td>...</td>\n",
       "    </tr>\n",
       "    <tr>\n",
       "      <th>7556</th>\n",
       "      <td>62.022786</td>\n",
       "      <td>30.560337</td>\n",
       "      <td>39.182289</td>\n",
       "      <td>154.437095</td>\n",
       "      <td>35.706749</td>\n",
       "      <td>261.606647</td>\n",
       "      <td>280.302170</td>\n",
       "      <td>84.725483</td>\n",
       "      <td>169.638967</td>\n",
       "      <td>180.369332</td>\n",
       "      <td>...</td>\n",
       "      <td>52.749874</td>\n",
       "      <td>39.854191</td>\n",
       "      <td>125.171656</td>\n",
       "      <td>41.620885</td>\n",
       "      <td>64.068517</td>\n",
       "      <td>151.634898</td>\n",
       "      <td>43.421966</td>\n",
       "      <td>126.798797</td>\n",
       "      <td>175.428745</td>\n",
       "      <td>205.481864</td>\n",
       "    </tr>\n",
       "    <tr>\n",
       "      <th>7557</th>\n",
       "      <td>61.444612</td>\n",
       "      <td>30.802650</td>\n",
       "      <td>39.174809</td>\n",
       "      <td>152.895802</td>\n",
       "      <td>35.897497</td>\n",
       "      <td>263.362121</td>\n",
       "      <td>277.587245</td>\n",
       "      <td>85.699457</td>\n",
       "      <td>168.687239</td>\n",
       "      <td>179.239895</td>\n",
       "      <td>...</td>\n",
       "      <td>53.255541</td>\n",
       "      <td>40.426245</td>\n",
       "      <td>126.785571</td>\n",
       "      <td>41.851879</td>\n",
       "      <td>63.909251</td>\n",
       "      <td>152.282793</td>\n",
       "      <td>43.016911</td>\n",
       "      <td>126.327704</td>\n",
       "      <td>176.160734</td>\n",
       "      <td>204.473233</td>\n",
       "    </tr>\n",
       "    <tr>\n",
       "      <th>7558</th>\n",
       "      <td>61.803873</td>\n",
       "      <td>30.544335</td>\n",
       "      <td>38.988515</td>\n",
       "      <td>152.817125</td>\n",
       "      <td>36.256525</td>\n",
       "      <td>261.652910</td>\n",
       "      <td>273.498084</td>\n",
       "      <td>85.423485</td>\n",
       "      <td>168.495281</td>\n",
       "      <td>179.085713</td>\n",
       "      <td>...</td>\n",
       "      <td>53.348492</td>\n",
       "      <td>40.487876</td>\n",
       "      <td>127.224007</td>\n",
       "      <td>41.670019</td>\n",
       "      <td>63.477902</td>\n",
       "      <td>152.242343</td>\n",
       "      <td>43.285646</td>\n",
       "      <td>126.192567</td>\n",
       "      <td>175.476612</td>\n",
       "      <td>202.548299</td>\n",
       "    </tr>\n",
       "    <tr>\n",
       "      <th>7559</th>\n",
       "      <td>62.561240</td>\n",
       "      <td>30.264896</td>\n",
       "      <td>38.177846</td>\n",
       "      <td>153.037767</td>\n",
       "      <td>36.629852</td>\n",
       "      <td>259.144679</td>\n",
       "      <td>273.612713</td>\n",
       "      <td>84.300275</td>\n",
       "      <td>168.577832</td>\n",
       "      <td>179.127526</td>\n",
       "      <td>...</td>\n",
       "      <td>53.020784</td>\n",
       "      <td>40.461342</td>\n",
       "      <td>128.011047</td>\n",
       "      <td>42.013749</td>\n",
       "      <td>64.398933</td>\n",
       "      <td>155.084241</td>\n",
       "      <td>43.313085</td>\n",
       "      <td>126.550167</td>\n",
       "      <td>175.221793</td>\n",
       "      <td>201.362281</td>\n",
       "    </tr>\n",
       "    <tr>\n",
       "      <th>7560</th>\n",
       "      <td>63.256841</td>\n",
       "      <td>30.460296</td>\n",
       "      <td>38.440215</td>\n",
       "      <td>151.428534</td>\n",
       "      <td>36.470805</td>\n",
       "      <td>256.014907</td>\n",
       "      <td>275.201076</td>\n",
       "      <td>84.566947</td>\n",
       "      <td>169.062539</td>\n",
       "      <td>182.909827</td>\n",
       "      <td>...</td>\n",
       "      <td>54.038431</td>\n",
       "      <td>40.617013</td>\n",
       "      <td>127.927809</td>\n",
       "      <td>41.485763</td>\n",
       "      <td>64.176207</td>\n",
       "      <td>154.563681</td>\n",
       "      <td>43.342784</td>\n",
       "      <td>128.133999</td>\n",
       "      <td>177.127502</td>\n",
       "      <td>202.609311</td>\n",
       "    </tr>\n",
       "  </tbody>\n",
       "</table>\n",
       "<p>7561 rows × 500 columns</p>\n",
       "</div>"
      ],
      "text/plain": [
       "            0          1          2           3          4           5    \\\n",
       "0      1.000000   1.000000   1.000000    1.000000   1.000000    1.000000   \n",
       "1      1.013222   1.002907   0.998567    1.011313   1.013746    1.013895   \n",
       "2      1.021244   1.011085   1.012330    1.010775   1.014562    1.007275   \n",
       "3      1.013149   1.009953   1.020617    1.023436   1.024798    1.019957   \n",
       "4      1.016970   1.011370   1.001534    1.031301   1.014413    1.018801   \n",
       "...         ...        ...        ...         ...        ...         ...   \n",
       "7556  62.022786  30.560337  39.182289  154.437095  35.706749  261.606647   \n",
       "7557  61.444612  30.802650  39.174809  152.895802  35.897497  263.362121   \n",
       "7558  61.803873  30.544335  38.988515  152.817125  36.256525  261.652910   \n",
       "7559  62.561240  30.264896  38.177846  153.037767  36.629852  259.144679   \n",
       "7560  63.256841  30.460296  38.440215  151.428534  36.470805  256.014907   \n",
       "\n",
       "             6          7           8           9    ...        490  \\\n",
       "0       1.000000   1.000000    1.000000    1.000000  ...   1.000000   \n",
       "1       1.001599   0.998179    0.993365    1.013644  ...   0.989609   \n",
       "2       1.004281   0.999640    1.008386    1.016975  ...   0.992857   \n",
       "3       1.005645   1.010105    0.996977    1.019919  ...   0.992225   \n",
       "4       1.016154   1.013046    0.981871    1.018979  ...   0.978116   \n",
       "...          ...        ...         ...         ...  ...        ...   \n",
       "7556  280.302170  84.725483  169.638967  180.369332  ...  52.749874   \n",
       "7557  277.587245  85.699457  168.687239  179.239895  ...  53.255541   \n",
       "7558  273.498084  85.423485  168.495281  179.085713  ...  53.348492   \n",
       "7559  273.612713  84.300275  168.577832  179.127526  ...  53.020784   \n",
       "7560  275.201076  84.566947  169.062539  182.909827  ...  54.038431   \n",
       "\n",
       "            491         492        493        494         495        496  \\\n",
       "0      1.000000    1.000000   1.000000   1.000000    1.000000   1.000000   \n",
       "1      0.989582    1.008590   1.015528   1.001641    1.011036   0.993178   \n",
       "2      0.994359    0.990336   1.000672   0.998420    1.012990   0.988566   \n",
       "3      0.992367    0.990370   0.995055   1.019593    1.000822   0.979928   \n",
       "4      0.985342    0.996562   0.977154   1.021764    1.005311   0.969614   \n",
       "...         ...         ...        ...        ...         ...        ...   \n",
       "7556  39.854191  125.171656  41.620885  64.068517  151.634898  43.421966   \n",
       "7557  40.426245  126.785571  41.851879  63.909251  152.282793  43.016911   \n",
       "7558  40.487876  127.224007  41.670019  63.477902  152.242343  43.285646   \n",
       "7559  40.461342  128.011047  42.013749  64.398933  155.084241  43.313085   \n",
       "7560  40.617013  127.927809  41.485763  64.176207  154.563681  43.342784   \n",
       "\n",
       "             497         498         499  \n",
       "0       1.000000    1.000000    1.000000  \n",
       "1       0.996988    1.002089    1.000435  \n",
       "2       0.984104    1.017624    1.010921  \n",
       "3       1.005295    1.029868    1.033006  \n",
       "4       1.014724    1.031294    1.029846  \n",
       "...          ...         ...         ...  \n",
       "7556  126.798797  175.428745  205.481864  \n",
       "7557  126.327704  176.160734  204.473233  \n",
       "7558  126.192567  175.476612  202.548299  \n",
       "7559  126.550167  175.221793  201.362281  \n",
       "7560  128.133999  177.127502  202.609311  \n",
       "\n",
       "[7561 rows x 500 columns]"
      ]
     },
     "execution_count": 57,
     "metadata": {},
     "output_type": "execute_result"
    }
   ],
   "source": [
    "# Run the Monte Carlo simulation to forecast 30 years cumulative returns\n",
    "mc_sim_weighted.calc_cumulative_return()"
   ]
  },
  {
   "cell_type": "code",
   "execution_count": 60,
   "metadata": {},
   "outputs": [
    {
     "data": {
      "image/png": "[encoded data removed]",
      "text/plain": [
       "<Figure size 432x288 with 1 Axes>"
      ]
     },
     "metadata": {
      "needs_background": "light"
     },
     "output_type": "display_data"
    }
   ],
   "source": [
    "# Visualize the 30-year Monte Carlo simulation by creating an\n",
    "# overlay line plot\n",
    "sixty_forty_weight_line_plot = mc_sim_weighted.plot_simulation()"
   ]
  },
  {
   "cell_type": "markdown",
   "metadata": {},
   "source": [
    "#### Step 3: Plot the probability distribution of the Monte Carlo simulation."
   ]
  },
  {
   "cell_type": "code",
   "execution_count": 61,
   "metadata": {},
   "outputs": [
    {
     "data": {
      "image/png": "[encoded data removed]",
      "text/plain": [
       "<Figure size 432x288 with 1 Axes>"
      ]
     },
     "metadata": {
      "needs_background": "light"
     },
     "output_type": "display_data"
    }
   ],
   "source": [
    "# Visualize the probability distribution of the 30-year Monte Carlo simulation \n",
    "# by plotting a histogram\n",
    "sixty_forty_weight_distribution = mc_sim_weighted.plot_distribution()"
   ]
  },
  {
   "cell_type": "markdown",
   "metadata": {},
   "source": [
    "#### Step 4: Generate the summary statistics for the Monte Carlo simulation."
   ]
  },
  {
   "cell_type": "code",
   "execution_count": 62,
   "metadata": {},
   "outputs": [
    {
     "name": "stdout",
     "output_type": "stream",
     "text": [
      "count           500.000000\n",
      "mean            109.321550\n",
      "std              89.642371\n",
      "min              12.345024\n",
      "25%              49.251313\n",
      "50%              78.736187\n",
      "75%             146.425483\n",
      "max             587.616223\n",
      "95% CI Lower     18.161116\n",
      "95% CI Upper    348.075087\n",
      "Name: 7560, dtype: float64\n"
     ]
    }
   ],
   "source": [
    "# Generate summary statistics from the 30-year Monte Carlo simulation results\n",
    "# Save the results as a variable\n",
    "sixty_forty_weight_table = mc_sim_weighted.summarize_cumulative_return()\n",
    "\n",
    "\n",
    "# Review the 30-year Monte Carlo summary statistics\n",
    "print(sixty_forty_weight_table)"
   ]
  },
  {
   "cell_type": "markdown",
   "metadata": {},
   "source": [
    "### Analyze the Retirement Portfolio Forecasts\n",
    "\n",
    "Using the current value of only the stock and bond portion of the member's portfolio and the summary statistics that you generated from the Monte Carlo simulation, answer the following question in your Jupyter notebook:\n",
    "\n",
    "-  What are the lower and upper bounds for the expected value of the portfolio with a 95% confidence interval?\n"
   ]
  },
  {
   "cell_type": "code",
   "execution_count": null,
   "metadata": {},
   "outputs": [],
   "source": [
    "# Print the current balance of the stock and bond portion of the members portfolio\n",
    "# YOUR CODE HERE\n"
   ]
  },
  {
   "cell_type": "code",
   "execution_count": null,
   "metadata": {},
   "outputs": [],
   "source": [
    "# Use the lower and upper `95%` confidence intervals to calculate the range of the possible outcomes for the current stock/bond portfolio\n",
    "ci_lower_thirty_cumulative_return = # YOUR CODE HERE\n",
    "ci_upper_thirty_cumulative_return = # YOUR CODE HERE\n",
    "\n",
    "# Print the result of your calculations\n",
    "# YOUR CODE HERE\n"
   ]
  },
  {
   "cell_type": "markdown",
   "metadata": {},
   "source": [
    "### Forecast Cumulative Returns in 10 Years\n",
    "\n",
    "The CTO of the credit union is impressed with your work on these planning tools but wonders if 30 years is a long time to wait until retirement. So, your next task is to adjust the retirement portfolio and run a new Monte Carlo simulation to find out if the changes will allow members to retire earlier.\n",
    "\n",
    "For this new Monte Carlo simulation, do the following: \n",
    "\n",
    "- Forecast the cumulative returns for 10 years from now. Because of the shortened investment horizon (30 years to 10 years), the portfolio needs to invest more heavily in the riskier asset&mdash;that is, stock&mdash;to help accumulate wealth for retirement. \n",
    "\n",
    "- Adjust the weights of the retirement portfolio so that the composition for the Monte Carlo simulation consists of 20% bonds and 80% stocks. \n",
    "\n",
    "- Run the simulation over 500 samples, and use the same data that the API call to Alpaca generated.\n",
    "\n",
    "- Based on the new Monte Carlo simulation, answer the following questions in your Jupyter notebook:\n",
    "\n",
    "    - Using the current value of only the stock and bond portion of the member's portfolio and the summary statistics that you generated from the new Monte Carlo simulation, what are the lower and upper bounds for the expected value of the portfolio (with the new weights) with a 95% confidence interval?\n",
    "\n",
    "    - Will weighting the portfolio more heavily toward stocks allow the credit union members to retire after only 10 years?\n"
   ]
  },
  {
   "cell_type": "code",
   "execution_count": null,
   "metadata": {},
   "outputs": [],
   "source": [
    "# Configure a Monte Carlo simulation to forecast 10 years cumulative returns\n",
    "# The weights should be split 20% to AGG and 80% to SPY.\n",
    "# Run 500 samples.\n",
    "# YOUR CODE HERE\n",
    "\n",
    "# Review the simulation input data\n",
    "# YOUR CODE HERE\n"
   ]
  },
  {
   "cell_type": "code",
   "execution_count": null,
   "metadata": {},
   "outputs": [],
   "source": [
    "# Run the Monte Carlo simulation to forecast 10 years cumulative returns\n",
    "# YOUR CODE HERE\n"
   ]
  },
  {
   "cell_type": "code",
   "execution_count": null,
   "metadata": {},
   "outputs": [],
   "source": [
    "# Visualize the 10-year Monte Carlo simulation by creating an\n",
    "# overlay line plot\n",
    "# YOUR CODE HERE\n"
   ]
  },
  {
   "cell_type": "code",
   "execution_count": null,
   "metadata": {},
   "outputs": [],
   "source": [
    "# Visualize the probability distribution of the 10-year Monte Carlo simulation \n",
    "# by plotting a histogram\n",
    "# YOUR CODE HERE\n"
   ]
  },
  {
   "cell_type": "code",
   "execution_count": null,
   "metadata": {},
   "outputs": [],
   "source": [
    "# Generate summary statistics from the 10-year Monte Carlo simulation results\n",
    "# Save the results as a variable\n",
    "# YOUR CODE HERE\n",
    "\n",
    "\n",
    "# Review the 10-year Monte Carlo summary statistics\n",
    "# YOUR CODE HERE"
   ]
  },
  {
   "cell_type": "markdown",
   "metadata": {},
   "source": [
    "### Answer the following questions:"
   ]
  },
  {
   "cell_type": "markdown",
   "metadata": {},
   "source": [
    "#### Question: Using the current value of only the stock and bond portion of the member's portfolio and the summary statistics that you generated from the new Monte Carlo simulation, what are the lower and upper bounds for the expected value of the portfolio (with the new weights) with a 95% confidence interval?"
   ]
  },
  {
   "cell_type": "code",
   "execution_count": null,
   "metadata": {},
   "outputs": [],
   "source": [
    "# Print the current balance of the stock and bond portion of the members portfolio\n",
    "# YOUR CODE HERE\n"
   ]
  },
  {
   "cell_type": "code",
   "execution_count": null,
   "metadata": {},
   "outputs": [],
   "source": [
    "# Use the lower and upper `95%` confidence intervals to calculate the range of the possible outcomes for the current stock/bond portfolio\n",
    "ci_lower_ten_cumulative_return = # YOUR CODE HERE\n",
    "ci_upper_ten_cumulative_return = # YOUR CODE HERE\n",
    "\n",
    "# Print the result of your calculations\n",
    "# YOUR CODE HERE\n"
   ]
  },
  {
   "cell_type": "markdown",
   "metadata": {},
   "source": [
    "#### Question: Will weighting the portfolio more heavily to stocks allow the credit union members to retire after only 10 years?"
   ]
  },
  {
   "cell_type": "raw",
   "metadata": {},
   "source": [
    "**Answer** # YOUR ANSWER HERE"
   ]
  },
  {
   "cell_type": "code",
   "execution_count": null,
   "metadata": {},
   "outputs": [],
   "source": []
  }
 ],
 "metadata": {
  "kernelspec": {
   "display_name": "Python 3 (ipykernel)",
   "language": "python",
   "name": "python3"
  },
  "language_info": {
   "codemirror_mode": {
    "name": "ipython",
    "version": 3
   },
   "file_extension": ".py",
   "mimetype": "text/x-python",
   "name": "python",
   "nbconvert_exporter": "python",
   "pygments_lexer": "ipython3",
   "version": "3.7.11"
  }
 },
 "nbformat": 4,
 "nbformat_minor": 4
}
